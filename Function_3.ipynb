{
  "nbformat": 4,
  "nbformat_minor": 0,
  "metadata": {
    "colab": {
      "provenance": []
    },
    "kernelspec": {
      "name": "python3",
      "display_name": "Python 3"
    },
    "language_info": {
      "name": "python"
    }
  },
  "cells": [
    {
      "cell_type": "code",
      "execution_count": null,
      "metadata": {
        "id": "BoBd3INZn3cu"
      },
      "outputs": [],
      "source": []
    },
    {
      "cell_type": "markdown",
      "source": [
        "**Theory questions**"
      ],
      "metadata": {
        "id": "XQ-gENgVn6XZ"
      }
    },
    {
      "cell_type": "markdown",
      "source": [
        "1. What is Object-Oriented Programming (OOP)?\n",
        "\n",
        "*   Object-Oriented Programming (OOP) in Python is a programming paradigm that structures code around objects rather than just functions or logic.\n",
        "\n",
        "*  It focuses on creating reusable, modular, and organized code by modeling real-world entities and their interactions.\n",
        "\n",
        "\n",
        "\n"
      ],
      "metadata": {
        "id": "OymXT8ZPoRhG"
      }
    },
    {
      "cell_type": "markdown",
      "source": [
        "2. What is a class in OOP?\n",
        "\n",
        "*   In Object-Oriented Programming (OOP), a class is a blueprint or template for creating objects.\n",
        "*    It defines a common structure of related attributes (data) and methods (behavior) that all objects of that class will share.\n",
        "\n",
        "*    Think of a class as a set of specifications for a certain type of entity, but not the entity itself.\n",
        "\n",
        "\n",
        "\n"
      ],
      "metadata": {
        "id": "b6uUKQekosV_"
      }
    },
    {
      "cell_type": "markdown",
      "source": [
        "3. What is an object in OOP?\n",
        "\n",
        "*   An object is a specific, real-world instance of a class.  \n",
        "*    While a class is a blueprint, the object is a concrete entity that exists in memory, has its own unique state (data), and can perform actions (methods) defined by its class.\n",
        "\n"
      ],
      "metadata": {
        "id": "892IIom0o8OT"
      }
    },
    {
      "cell_type": "markdown",
      "source": [
        "4. What is the difference between abstraction and encapsulation?\n",
        "\n",
        "*   Abstraction and encapsulation are two fundamental principles of object-oriented programming (OOP) that work together to manage complexity, but they serve different purposes.\n",
        "*   Encapsulation is an implementation technique for bundling data and methods, while abstraction is a design concept for simplifying a complex system.\n",
        "\n"
      ],
      "metadata": {
        "id": "wjUD0RyNpFY4"
      }
    },
    {
      "cell_type": "markdown",
      "source": [
        "5. What are dunder methods in Python?\n",
        "\n",
        "*   Dunder methods, short for \"double underscore methods,\" are special methods in Python that have double underscores at the beginning and end of their names (e.g., __init__,).\n",
        "*    They are also commonly called \"magic methods\".\n",
        "\n"
      ],
      "metadata": {
        "id": "0P7dKFMJpPd0"
      }
    },
    {
      "cell_type": "markdown",
      "source": [
        "6. Explain the concept of inheritance in OOPH?\n",
        "\n",
        "*   Inheritance is a mechanism that allows a new class to adopt the attributes and methods of an existing class.\n",
        "*   It models a hierarchical, \"is-a\" relationship, where a specialized child class (or subclass) derives from a more general parent class (or superclass).\n",
        "\n"
      ],
      "metadata": {
        "id": "WpVtHow6pYVd"
      }
    },
    {
      "cell_type": "markdown",
      "source": [
        "7. What is polymorphism in OOP?\n",
        "\n",
        "*   polymorphism is the ability of a method, function, or operator to take on many forms.\n",
        "*   This means that a single name or interface can be used to represent different underlying types of objects, and each object will respond to that name in its own specific way.\n",
        "\n"
      ],
      "metadata": {
        "id": "dgWxDc3MpkLs"
      }
    },
    {
      "cell_type": "markdown",
      "source": [
        "8. How is encapsulation achieved in Python?\n",
        "\n",
        "*   Encapsulation in Python is primarily achieved through a set of naming conventions and language features.\n",
        "*   As python does not have strict access modifiers like public, private, and protected that are enforced by the language. Instead, it relies on programmer discipline and subtle name changes to signal and control access to class members.\n",
        "\n"
      ],
      "metadata": {
        "id": "7XJ-BnQApv79"
      }
    },
    {
      "cell_type": "markdown",
      "source": [
        "9. What is a constructor in Python?\n",
        "\n",
        "*   the constructor is a special method used to initialize objects when they are created.\n",
        "*   Its purpose is to set up the initial state of the new object by assigning values to its attributes.\n",
        "*  The constructor is not called explicitly by the programmer.\n",
        "\n"
      ],
      "metadata": {
        "id": "1Px5Uwvgp4_s"
      }
    },
    {
      "cell_type": "markdown",
      "source": [
        "10. What are class and static methods in Python?\n",
        "\n",
        "*    Both class and static methods are defined within a class but differ fundamentally in their purpose and how they interact with the class and its instances.\n",
        "\n",
        "\n",
        "*    They are defined using the @classmethod and @staticmethod decorators.\n",
        "\n",
        "\n",
        "\n"
      ],
      "metadata": {
        "id": "_YPTuk07qFRF"
      }
    },
    {
      "cell_type": "markdown",
      "source": [
        "11. What is method overloading in Python?\n",
        "\n",
        "\n",
        "*   The overloading method in phyton you can define multiple methods with the same name but different parameter lists (varying in the number or type of parameters), and the correct method is resolved at compile time.\n",
        "* because Python is a dynamically typed language, it uses a simpler approch.\n",
        "\n"
      ],
      "metadata": {
        "id": "sKmL4TcTqT9P"
      }
    },
    {
      "cell_type": "markdown",
      "source": [
        "12. What is method overriding in OOP?\n",
        "\n",
        "*   method overriding is a feature that allows a subclass (or child class) to provide a specific implementation of a method that is already defined in one of its superclasses (or parent classes).\n",
        "*  This gives the child class the ability to alter or extend the behavior of an inherited method without changing the parent class's original code.\n",
        "\n"
      ],
      "metadata": {
        "id": "uQBv4vr5qfss"
      }
    },
    {
      "cell_type": "markdown",
      "source": [
        "13. What is a property decorator in Python?\n",
        "\n",
        "*   The property decorator in Python is a built-in feature that provides a \"Pythonic\" way to define methods that can be accessed like attributes.\n",
        "*    It is primarily used to manage access to class attributes, offering a clean interface for implementing getters, setters, and deleters.\n",
        "\n"
      ],
      "metadata": {
        "id": "s87huXt3rN5c"
      }
    },
    {
      "cell_type": "markdown",
      "source": [
        "14. Why is polymorphism important in OOP?\n",
        "\n",
        "*   It allows for the development of flexible, maintainable, and reusable code.\n",
        "\n",
        "*  Instead of hard-coding logic for every specific object type, polymorphism enables developers to write generic code that can operate on a common interface, with each object providing its own unique implementation.\n",
        "\n",
        "\n",
        "\n"
      ],
      "metadata": {
        "id": "3ijdm5OSre7p"
      }
    },
    {
      "cell_type": "markdown",
      "source": [
        "15. What is an abstract class in Python?\n",
        "\n",
        "*   An abstract class is a blueprint or template for other classes that cannot be instantiated on its own. Its purpose is to define a common interface or set of rules that all its subclasses must follow.\n",
        "*  Abstract classes are defined using Python's built-in abc (Abstract Base Classes) module and enforce abstraction by requiring that certain methods be implemented by any concrete subclass.\n",
        "\n",
        "\n"
      ],
      "metadata": {
        "id": "7Cgp0dzgrrga"
      }
    },
    {
      "cell_type": "markdown",
      "source": [
        "16. What are the advantages of OOP?\n",
        "\n",
        "*   (OOP) offers many advantages that make it a widely adopted and powerful paradigm for modern software development.\n",
        "*    By structuring code around objects that combine both data and behavior, OOP enhances reusability, maintainability, and security.\n",
        "\n"
      ],
      "metadata": {
        "id": "ji3Xf-b5r_6u"
      }
    },
    {
      "cell_type": "markdown",
      "source": [
        "17.  What is the difference between a class variable and an instance variable?\n",
        "\n",
        "*   A class variable belongs to the class itself and is shared among all its instances, while an instance variable is unique to each object created from the class.\n",
        "\n",
        "*    Modifying a class variable affects all instances, whereas a change to an instance variable only affects that specific object.\n",
        "\n",
        "\n",
        "\n"
      ],
      "metadata": {
        "id": "Z2GZNzRPQvd1"
      }
    },
    {
      "cell_type": "markdown",
      "source": [
        "\n",
        "18. What is multiple inheritance in Python?\n",
        "\n",
        "*   multiple inheritance is a feature of object-oriented programming that allows a class to inherit attributes and methods from more than one parent class.\n",
        "*   This enables a child class to combine functionalities from multiple sources, which can be useful for modeling complex real-world relationships.\n",
        "\n"
      ],
      "metadata": {
        "id": "pyFhk0sjRffY"
      }
    },
    {
      "cell_type": "markdown",
      "source": [
        "19. Explain the purpose of ‘’__str__’ and ‘__repr__’ ‘ methods in Python?\n",
        "\n",
        "\n",
        "*   In Python, __str__ and __repr__ are special \"dunder\" (double underscore) methods used to provide string representations of an object, but they serve different purposes for different audiences.\n",
        "*   __str__ is for users, and the output should be highly readable.\n",
        "\n",
        "*  __repr__ is for developers, and its output should be unambiguous and detailed.\n",
        "\n",
        "\n",
        "\n",
        "\n",
        "\n"
      ],
      "metadata": {
        "id": "JI9RR3wHSGzM"
      }
    },
    {
      "cell_type": "markdown",
      "source": [
        "20.  What is the significance of the ‘super()’ function in Python?\n",
        "\n",
        "*   The super() function in Python is a built-in method that provides a way to access and call methods of a parent or sibling class from a subclass.\n",
        "*   Its primary significance lies in managing inheritance cleanly, making code more maintainable, flexible, and robust, particularly in complex inheritance structures.\n",
        "\n"
      ],
      "metadata": {
        "id": "9D4dPlk0S-e0"
      }
    },
    {
      "cell_type": "markdown",
      "source": [
        "21.  What is the significance of the __del__ method in Python?\n",
        "\n",
        "*   The __del__ method, often referred to as a \"destructor,\" is a special method in Python that is called when an object is about to be destroyed or garbage collected.\n",
        "*  It is intended for performing cleanup actions, such as releasing external resources, before the object's memory is reclaimed\n",
        "\n"
      ],
      "metadata": {
        "id": "_r7DevWCTnPX"
      }
    },
    {
      "cell_type": "markdown",
      "source": [
        "22. What is the difference between @staticmethod and @classmethod in Python?\n",
        "\n",
        "*   Both @staticmethod and @classmethod are decorators used to define methods within a class that are bound to the class itself, not to an instance of the class.\n",
        "*    The primary difference lies in the arguments they automatically receive and what they can access.\n",
        "\n"
      ],
      "metadata": {
        "id": "2pgldN8BUIoi"
      }
    },
    {
      "cell_type": "markdown",
      "source": [
        "23. How does polymorphism work in Python with inheritance?\n",
        "\n",
        "*   polymorphism with inheritance means that a subclass can provide its own unique implementation of a method that is already defined in its parent class. This is known as method overriding.\n",
        "*    When you call the method on an object, Python's runtime determines which version of the method to execute based on the object's actual class.\n",
        "\n"
      ],
      "metadata": {
        "id": "wYuqsnQQUlGi"
      }
    },
    {
      "cell_type": "markdown",
      "source": [
        "24. What is method chaining in Python OOP?\n",
        "\n",
        "*   Method chaining is a programming technique in Python OOP that allows multiple method calls to be linked together sequentially on the same object in a single, continuous line of code. For this to work, each method in the chain must return the object itself (self), which acts as the context for the next method call.\n",
        "*   This practice, also known as creating a \"fluent interface,\" makes code more concise, readable, and expressive by eliminating the need for temporary variables to store intermediate result\n",
        "\n"
      ],
      "metadata": {
        "id": "jwwGDQpaVIug"
      }
    },
    {
      "cell_type": "markdown",
      "source": [
        "25. What is the purpose of the __call__ method in Python?\n",
        "\n",
        "*   The __call__ method in Python allows an instance of a class to be called as if it were a function. This makes the object \"callable,\" meaning you can use parentheses () to invoke its functionality, just like you would a regular function.\n",
        "*   The purpose of __call__ is to create flexible, stateful objects that retain data while behaving like functions. This ability is useful for a variety of advanced programming patterns.\n",
        "\n"
      ],
      "metadata": {
        "id": "GpHUXAL3Vsj_"
      }
    },
    {
      "cell_type": "markdown",
      "source": [],
      "metadata": {
        "id": "d3TXs7qKsLPu"
      }
    },
    {
      "cell_type": "code",
      "source": [
        "# 1. Create a parent class Animal with a method speak() that prints a generic message. Create a child class Dog that overrides the speak() method to print \"Bark!\".\n",
        "class Animal:\n",
        "    def speak(self):\n",
        "        print(\"Generic animal sound\")\n",
        "\n",
        "class Dog(Animal):\n",
        "    def speak(self):\n",
        "        print(\"Bark!\")\n",
        "\n",
        "dog = Dog()\n",
        "dog.speak()\n",
        "\n"
      ],
      "metadata": {
        "colab": {
          "base_uri": "https://localhost:8080/"
        },
        "id": "3yyC0xrgwrJG",
        "outputId": "4f189d14-4186-442a-bf9e-b9a9973f2dc4"
      },
      "execution_count": null,
      "outputs": [
        {
          "output_type": "stream",
          "name": "stdout",
          "text": [
            "Bark!\n"
          ]
        }
      ]
    },
    {
      "cell_type": "code",
      "source": [
        "# 2.Write a program to create an abstract class Shape with a method area(). Derive classes Circle and Rectangle from it and implement the area() method in both.\n",
        "class shape:\n",
        "    def area(self):\n",
        "        pass\n",
        "\n",
        "class Circle(shape):\n",
        "    def area(self, radius):\n",
        "        return 3.14 * radius * radius\n",
        "\n",
        "class Rectangle(shape):\n",
        "    def area(self, length, width):\n",
        "        return length * width\n",
        "\n",
        "circle = Circle()\n",
        "print(circle.area(5))\n",
        "\n",
        "rectangle = Rectangle()\n",
        "print(rectangle.area(4, 6))"
      ],
      "metadata": {
        "colab": {
          "base_uri": "https://localhost:8080/"
        },
        "id": "KnbVvxQOxfmw",
        "outputId": "b700111e-0ebe-40c3-9f54-13f2f4b0997a"
      },
      "execution_count": null,
      "outputs": [
        {
          "output_type": "stream",
          "name": "stdout",
          "text": [
            "78.5\n",
            "24\n"
          ]
        }
      ]
    },
    {
      "cell_type": "code",
      "source": [
        "# 3.Implement a multi-level inheritance scenario where a class Vehicle has an attribute type. Derive a class Car and further derive a class ElectricCar that adds a battery attribute.\n",
        "class Vehicle:\n",
        "    def __init__(self, type):\n",
        "        self.type = type\n"
      ],
      "metadata": {
        "id": "tDXBdm0T0MBr"
      },
      "execution_count": null,
      "outputs": []
    },
    {
      "cell_type": "code",
      "source": [
        "# 4. Demonstrate polymorphism by creating a base class Bird with a method fly(). Create two derived classes Sparrow and Penguin that override the fly() method.\n",
        "class Bird:\n",
        "    def fly(self):\n",
        "        pass\n",
        "\n",
        "class Sparrow(Bird):\n",
        "    def fly(self):\n",
        "        print(\"Sparrow is flying\")\n",
        "\n",
        "class Penguin(Bird):\n",
        "    def fly(self):\n",
        "        print(\"Penguin is not flying\")\n"
      ],
      "metadata": {
        "id": "mVbjDrFR0_Cm"
      },
      "execution_count": null,
      "outputs": []
    },
    {
      "cell_type": "code",
      "source": [
        "# 5. Write a program to demonstrate encapsulation by creating a class BankAccount with private attributes balance and methods to deposit, withdraw, and check balance.\n",
        "\n",
        "class BankAccount:\n",
        "    def __init__(self, balance):\n",
        "        self.__balance = balance"
      ],
      "metadata": {
        "id": "2378cwxz3q23"
      },
      "execution_count": null,
      "outputs": []
    },
    {
      "cell_type": "code",
      "source": [
        "# 6. Demonstrate runtime polymorphism using a method play() in a base class Instrument. Derive classes Guitar and Piano that implement their own version of play().\n",
        "class Instrument:\n",
        "    def play(self):\n",
        "        pass\n",
        "\n",
        "class Guitar(Instrument):\n",
        "    def play(self):\n",
        "        print(\"Guitar is playing\")\n",
        "\n",
        "class Piano(Instrument):\n",
        "    def play(self):\n",
        "        print(\"Piano is playing\")\n",
        "\n",
        "\n"
      ],
      "metadata": {
        "id": "UckHeZmcXIE9"
      },
      "execution_count": null,
      "outputs": []
    },
    {
      "cell_type": "code",
      "source": [
        "# 7. Create a class MathOperations with a class method add_numbers() to add two numbers and a static method subtract_numbers() to subtract two numbers.\n",
        "class MathOperations:\n",
        "    @classmethod\n",
        "    def add_numbers(cls, a, b):\n",
        "        return a + b\n",
        "\n",
        "    @staticmethod\n",
        "    def subtract_numbers(a, b):\n",
        "        return a - b"
      ],
      "metadata": {
        "id": "keOW2jv8bvwg"
      },
      "execution_count": null,
      "outputs": []
    },
    {
      "cell_type": "code",
      "source": [
        "# 8. Implement a class Person with a class method to count the total number of persons created.\n",
        "class Person:\n",
        "    count = 0\n",
        "\n",
        "    def __init__(self):\n",
        "        Person.count += 1\n",
        "\n",
        "    @classmethod\n",
        "    def get_count(cls):\n",
        "        return cls.count"
      ],
      "metadata": {
        "id": "-4qjmN8Ob_K7"
      },
      "execution_count": null,
      "outputs": []
    },
    {
      "cell_type": "code",
      "source": [
        "# 9. Write a class Fraction with attributes numerator and denominator. Override the str method to display the fraction as \"numerator/denominator\".\n",
        "class Fraction:\n",
        "    def __init__(self, numerator, denominator):\n",
        "        self.numerator = numerator\n",
        "        self.denominator = denominator\n",
        "\n",
        "    def __str__(self):\n",
        "        return f\"{self.numerator}/{self.denominator}\"\n"
      ],
      "metadata": {
        "id": "sAvf19nRcLpV"
      },
      "execution_count": null,
      "outputs": []
    },
    {
      "cell_type": "code",
      "source": [
        "# 10. Demonstrate operator overloading by creating a class Vector and overriding the add method to add two vectors.\n",
        "class Vector:\n",
        "    def __init__(self, x, y):\n",
        "        self.x = x\n",
        "        self.y = y\n",
        "\n",
        "    def __add__(self, other):\n",
        "        return Vector(self.x + other.x, self.y + other.y)\n"
      ],
      "metadata": {
        "id": "-Kbfl3cHcaC1"
      },
      "execution_count": null,
      "outputs": []
    },
    {
      "cell_type": "code",
      "source": [
        "# 11. Create a class Person with attributes name and age. Add a method greet() that prints \"Hello, my name is {name} and I am {age} years old.\"\n",
        "class Person:\n",
        "    def __init__(self, name, age):\n",
        "        self.name = name\n",
        "        self.age = age\n"
      ],
      "metadata": {
        "id": "nwCoCBGfcnDj"
      },
      "execution_count": null,
      "outputs": []
    },
    {
      "cell_type": "code",
      "source": [
        "# 12. Implement a class Student with attributes name and grades. Create a method average_grade() to compute the average of the grades.\n",
        "class Student:\n",
        "    def __init__(self, name, grades):\n",
        "        self.name = name\n",
        "        self.grades = grades\n",
        "\n",
        "    def average_grade(self):\n",
        "        return sum(self.grades) / len(self.grades)"
      ],
      "metadata": {
        "id": "FSjgzTeeczgU"
      },
      "execution_count": null,
      "outputs": []
    },
    {
      "cell_type": "code",
      "source": [
        "# 13. Create a class Rectangle with methods set_dimensions() to set the dimensions and area() to calculate the area.\n",
        "class Rectangle:\n",
        "    def __init__(self, length, width):\n",
        "        self.length = length\n",
        "        self.width = width\n",
        "\n",
        "    def set_dimensions(self, length, width):\n",
        "        self.length = length\n",
        "        self.width = width\n"
      ],
      "metadata": {
        "id": "IBKrb2Obc9fF"
      },
      "execution_count": null,
      "outputs": []
    },
    {
      "cell_type": "code",
      "source": [
        "# 14. Create a class Employee with a method calculate_salary() that computes the salary based on hours worked and hourly rate. Create a derived class Manager that adds a bonus to the salary\n",
        "class Employee:\n",
        "    def __init__(self, name, hours_worked, hourly_rate):\n",
        "        self.name = name\n",
        "        self.hours_worked = hours_worked\n",
        "        self.hourly_rate = hourly_rate"
      ],
      "metadata": {
        "id": "cJOOjlq_dI-7"
      },
      "execution_count": null,
      "outputs": []
    },
    {
      "cell_type": "code",
      "source": [
        "# 15. Create a class Product with attributes name, price, and quantity. Implement a method total_price() that calculates the total price of the product.\n",
        "class Product:\n",
        "    def __init__(self, name, price, quantity):\n",
        "        self.name = name\n",
        "        self.price = price\n",
        "        self.quantity = quantity\n",
        "\n",
        "    def total_price(self):\n",
        "        return self.price * self.quantity"
      ],
      "metadata": {
        "id": "FZOoh4J7dY42"
      },
      "execution_count": null,
      "outputs": []
    },
    {
      "cell_type": "code",
      "source": [
        "# 16. Create a class Animal with an abstract method sound(). Create two derived classes Cow and Sheep that implement the sound() method.\n",
        "class Animal:\n",
        "    def sound(self):\n",
        "        pass"
      ],
      "metadata": {
        "id": "UsK4hmwvdz2M"
      },
      "execution_count": null,
      "outputs": []
    },
    {
      "cell_type": "code",
      "source": [
        "# 17. Create a class Book with attributes title, author, and year_published. Add a method get_book_info() that returns a formatted string with the book's details.\n",
        "class Book:\n",
        "    def __init__(self, title, author, year_published):\n",
        "        self.title = title\n",
        "        self.author = author\n",
        "        self.year_published = year_published"
      ],
      "metadata": {
        "id": "1_mNMcnxd-8f"
      },
      "execution_count": null,
      "outputs": []
    },
    {
      "cell_type": "code",
      "source": [
        "# 18. Create a class House with attributes address and price. Create a derived class Mansion that adds an attribute number_of_rooms.\n",
        "class House:\n",
        "    def __init__(self, address, price):\n",
        "        self.address = address\n",
        "        self.price = price"
      ],
      "metadata": {
        "id": "YoddWQkReJz0"
      },
      "execution_count": null,
      "outputs": []
    }
  ]
}